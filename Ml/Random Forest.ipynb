{
 "cells": [
  {
   "cell_type": "code",
   "execution_count": 2,
   "metadata": {},
   "outputs": [],
   "source": [
    "import pandas as pd\n",
    "import matplotlib.pyplot as plt\n",
    "import numpy as np\n",
    "import pickle\n",
    "%matplotlib inline"
   ]
  },
  {
   "cell_type": "code",
   "execution_count": 3,
   "metadata": {},
   "outputs": [
    {
     "data": {
      "text/html": [
       "<div>\n",
       "<style scoped>\n",
       "    .dataframe tbody tr th:only-of-type {\n",
       "        vertical-align: middle;\n",
       "    }\n",
       "\n",
       "    .dataframe tbody tr th {\n",
       "        vertical-align: top;\n",
       "    }\n",
       "\n",
       "    .dataframe thead th {\n",
       "        text-align: right;\n",
       "    }\n",
       "</style>\n",
       "<table border=\"1\" class=\"dataframe\">\n",
       "  <thead>\n",
       "    <tr style=\"text-align: right;\">\n",
       "      <th></th>\n",
       "      <th>Unnamed: 0</th>\n",
       "      <th>user_id</th>\n",
       "      <th>date</th>\n",
       "      <th>frequency_communication</th>\n",
       "      <th>frequency_games &amp; entertainment</th>\n",
       "      <th>frequency_lifestyle</th>\n",
       "      <th>frequency_news &amp; information outlet</th>\n",
       "      <th>frequency_social network</th>\n",
       "      <th>frequency_utility &amp; tools</th>\n",
       "      <th>cat_duration_communication</th>\n",
       "      <th>...</th>\n",
       "      <th>max_duration_social network</th>\n",
       "      <th>max_duration_utility &amp; tools</th>\n",
       "      <th>anxious</th>\n",
       "      <th>bored</th>\n",
       "      <th>gloomy</th>\n",
       "      <th>stressed</th>\n",
       "      <th>upset</th>\n",
       "      <th>tired</th>\n",
       "      <th>envious</th>\n",
       "      <th>inferior</th>\n",
       "    </tr>\n",
       "  </thead>\n",
       "  <tbody>\n",
       "    <tr>\n",
       "      <th>0</th>\n",
       "      <td>1</td>\n",
       "      <td>10161</td>\n",
       "      <td>2019-02-21</td>\n",
       "      <td>30</td>\n",
       "      <td>13</td>\n",
       "      <td>3</td>\n",
       "      <td>0</td>\n",
       "      <td>0</td>\n",
       "      <td>15</td>\n",
       "      <td>1663.838000</td>\n",
       "      <td>...</td>\n",
       "      <td>0.0</td>\n",
       "      <td>451.024</td>\n",
       "      <td>3.0</td>\n",
       "      <td>3.0</td>\n",
       "      <td>4.0</td>\n",
       "      <td>4.0</td>\n",
       "      <td>2.0</td>\n",
       "      <td>2.0</td>\n",
       "      <td>3.0</td>\n",
       "      <td>4.0</td>\n",
       "    </tr>\n",
       "    <tr>\n",
       "      <th>1</th>\n",
       "      <td>2</td>\n",
       "      <td>10161</td>\n",
       "      <td>2019-02-24</td>\n",
       "      <td>112</td>\n",
       "      <td>19</td>\n",
       "      <td>11</td>\n",
       "      <td>0</td>\n",
       "      <td>0</td>\n",
       "      <td>37</td>\n",
       "      <td>11943.377002</td>\n",
       "      <td>...</td>\n",
       "      <td>0.0</td>\n",
       "      <td>41.836</td>\n",
       "      <td>5.0</td>\n",
       "      <td>1.0</td>\n",
       "      <td>2.0</td>\n",
       "      <td>2.0</td>\n",
       "      <td>5.0</td>\n",
       "      <td>2.0</td>\n",
       "      <td>4.0</td>\n",
       "      <td>4.0</td>\n",
       "    </tr>\n",
       "    <tr>\n",
       "      <th>2</th>\n",
       "      <td>3</td>\n",
       "      <td>10161</td>\n",
       "      <td>2019-02-25</td>\n",
       "      <td>92</td>\n",
       "      <td>23</td>\n",
       "      <td>9</td>\n",
       "      <td>0</td>\n",
       "      <td>0</td>\n",
       "      <td>45</td>\n",
       "      <td>5637.050999</td>\n",
       "      <td>...</td>\n",
       "      <td>0.0</td>\n",
       "      <td>480.487</td>\n",
       "      <td>1.0</td>\n",
       "      <td>1.0</td>\n",
       "      <td>1.0</td>\n",
       "      <td>0.0</td>\n",
       "      <td>1.0</td>\n",
       "      <td>1.0</td>\n",
       "      <td>0.0</td>\n",
       "      <td>1.0</td>\n",
       "    </tr>\n",
       "    <tr>\n",
       "      <th>3</th>\n",
       "      <td>4</td>\n",
       "      <td>10161</td>\n",
       "      <td>2019-02-26</td>\n",
       "      <td>86</td>\n",
       "      <td>14</td>\n",
       "      <td>14</td>\n",
       "      <td>0</td>\n",
       "      <td>0</td>\n",
       "      <td>76</td>\n",
       "      <td>5140.161998</td>\n",
       "      <td>...</td>\n",
       "      <td>0.0</td>\n",
       "      <td>297.546</td>\n",
       "      <td>3.0</td>\n",
       "      <td>2.0</td>\n",
       "      <td>3.0</td>\n",
       "      <td>2.0</td>\n",
       "      <td>2.0</td>\n",
       "      <td>1.0</td>\n",
       "      <td>3.0</td>\n",
       "      <td>4.0</td>\n",
       "    </tr>\n",
       "    <tr>\n",
       "      <th>4</th>\n",
       "      <td>5</td>\n",
       "      <td>10161</td>\n",
       "      <td>2019-03-02</td>\n",
       "      <td>76</td>\n",
       "      <td>21</td>\n",
       "      <td>18</td>\n",
       "      <td>0</td>\n",
       "      <td>5</td>\n",
       "      <td>45</td>\n",
       "      <td>6752.323000</td>\n",
       "      <td>...</td>\n",
       "      <td>673.8</td>\n",
       "      <td>1337.898</td>\n",
       "      <td>2.5</td>\n",
       "      <td>2.5</td>\n",
       "      <td>2.5</td>\n",
       "      <td>1.5</td>\n",
       "      <td>3.5</td>\n",
       "      <td>2.5</td>\n",
       "      <td>2.5</td>\n",
       "      <td>2.5</td>\n",
       "    </tr>\n",
       "  </tbody>\n",
       "</table>\n",
       "<p>5 rows × 77 columns</p>\n",
       "</div>"
      ],
      "text/plain": [
       "   Unnamed: 0  user_id        date  frequency_communication  \\\n",
       "0           1    10161  2019-02-21                       30   \n",
       "1           2    10161  2019-02-24                      112   \n",
       "2           3    10161  2019-02-25                       92   \n",
       "3           4    10161  2019-02-26                       86   \n",
       "4           5    10161  2019-03-02                       76   \n",
       "\n",
       "   frequency_games & entertainment  frequency_lifestyle  \\\n",
       "0                               13                    3   \n",
       "1                               19                   11   \n",
       "2                               23                    9   \n",
       "3                               14                   14   \n",
       "4                               21                   18   \n",
       "\n",
       "   frequency_news & information outlet  frequency_social network  \\\n",
       "0                                    0                         0   \n",
       "1                                    0                         0   \n",
       "2                                    0                         0   \n",
       "3                                    0                         0   \n",
       "4                                    0                         5   \n",
       "\n",
       "   frequency_utility & tools  cat_duration_communication  ...  \\\n",
       "0                         15                 1663.838000  ...   \n",
       "1                         37                11943.377002  ...   \n",
       "2                         45                 5637.050999  ...   \n",
       "3                         76                 5140.161998  ...   \n",
       "4                         45                 6752.323000  ...   \n",
       "\n",
       "   max_duration_social network  max_duration_utility & tools  anxious  bored  \\\n",
       "0                          0.0                       451.024      3.0    3.0   \n",
       "1                          0.0                        41.836      5.0    1.0   \n",
       "2                          0.0                       480.487      1.0    1.0   \n",
       "3                          0.0                       297.546      3.0    2.0   \n",
       "4                        673.8                      1337.898      2.5    2.5   \n",
       "\n",
       "   gloomy  stressed  upset  tired  envious  inferior  \n",
       "0     4.0       4.0    2.0    2.0      3.0       4.0  \n",
       "1     2.0       2.0    5.0    2.0      4.0       4.0  \n",
       "2     1.0       0.0    1.0    1.0      0.0       1.0  \n",
       "3     3.0       2.0    2.0    1.0      3.0       4.0  \n",
       "4     2.5       1.5    3.5    2.5      2.5       2.5  \n",
       "\n",
       "[5 rows x 77 columns]"
      ]
     },
     "execution_count": 3,
     "metadata": {},
     "output_type": "execute_result"
    }
   ],
   "source": [
    "df = pd.read_csv('./data/final_data.csv')\n",
    "df.head()"
   ]
  },
  {
   "cell_type": "code",
   "execution_count": 4,
   "metadata": {},
   "outputs": [],
   "source": [
    "feat_cols = ['frequency_communication','frequency_games & entertainment','frequency_lifestyle','frequency_news & information outlet',\n",
    "    'frequency_social network','frequency_utility & tools',\n",
    "    'cat_duration_communication', 'cat_duration_games & entertainment','cat_duration_lifestyle','cat_duration_news & information outlet', \n",
    "    'cat_duration_social network','cat_duration_utility & tools',\n",
    "    'dur_pro_communication','dur_pro_games & entertainment','dur_pro_lifestyle','dur_pro_news & information outlet',\t'dur_pro_social network',\t\n",
    "    'dur_pro_utility & tools',\n",
    "    'freq_pro_communication','freq_pro_games & entertainment','freq_pro_lifestyle','freq_pro_news & information outlet','freq_pro_social network',\n",
    "    'freq_pro_utility & tools','recency_communication','recency_games & entertainment','recency_lifestyle',\n",
    "    'recency_news & information outlet','recency_social network','recency_utility & tools','monetary_communication','monetary_games & entertainment',\n",
    "    'monetary_lifestyle','monetary_news & information outlet','monetary_social network','monetary_utility & tools','earliest_time_communication',\n",
    "    'earliest_time_games & entertainment',  'earliest_time_lifestyle',  'earliest_time_news & information outlet',  \n",
    "    'earliest_time_social network',  'earliest_time_utility & tools','max_duration_communication',\n",
    "    'max_duration_games & entertainment','max_duration_lifestyle','max_duration_news & information outlet','max_duration_social network',\n",
    "    'max_duration_utility & tools','std_duration_communication','std_duration_games & entertainment','std_duration_lifestyle','std_duration_news & information outlet',\n",
    "    'std_duration_social network','std_duration_utility & tools','min_duration_communication','min_duration_games & entertainment','min_duration_lifestyle',\n",
    "    'min_duration_news & information outlet','min_duration_social network','min_duration_utility & tools','var_duration_communication','var_duration_games & entertainment',\n",
    "    'var_duration_lifestyle','var_duration_news & information outlet','var_duration_social network','var_duration_utility & tools']\n",
    "\n",
    "target_cols = [\n",
    "    'anxious', 'bored', 'gloomy', 'stressed', 'upset', 'tired', 'envious',\n",
    "    'inferior'\n",
    "]"
   ]
  },
  {
   "cell_type": "code",
   "execution_count": 5,
   "metadata": {},
   "outputs": [
    {
     "data": {
      "text/plain": [
       "array([[3.        , 3.        , 4.        , ..., 2.        , 3.        ,\n",
       "        4.        ],\n",
       "       [5.        , 1.        , 2.        , ..., 2.        , 4.        ,\n",
       "        4.        ],\n",
       "       [1.        , 1.        , 1.        , ..., 1.        , 0.        ,\n",
       "        1.        ],\n",
       "       ...,\n",
       "       [1.33333333, 2.33333333, 1.66666667, ..., 3.        , 0.66666667,\n",
       "        2.        ],\n",
       "       [0.5       , 0.5       , 1.5       , ..., 3.        , 0.        ,\n",
       "        1.5       ],\n",
       "       [2.        , 0.        , 1.        , ..., 2.        , 0.        ,\n",
       "        1.        ]])"
      ]
     },
     "execution_count": 5,
     "metadata": {},
     "output_type": "execute_result"
    }
   ],
   "source": [
    "x = df[target_cols].values\n",
    "\n",
    "x"
   ]
  },
  {
   "cell_type": "code",
   "execution_count": 6,
   "metadata": {},
   "outputs": [],
   "source": [
    "from sklearn.cluster import KMeans\n",
    "from sklearn.metrics import silhouette_score"
   ]
  },
  {
   "cell_type": "code",
   "execution_count": 7,
   "metadata": {},
   "outputs": [
    {
     "name": "stdout",
     "output_type": "stream",
     "text": [
      "Silhouette score for number of cluster(s) 2: 0.42469288582816334\n",
      "Silhouette score for number of cluster(s) 3: 0.2921078938250449\n",
      "Silhouette score for number of cluster(s) 4: 0.22248390627519518\n",
      "Silhouette score for number of cluster(s) 5: 0.22579435421072896\n",
      "Silhouette score for number of cluster(s) 6: 0.22779676256297562\n",
      "Silhouette score for number of cluster(s) 7: 0.21063895493530949\n",
      "Silhouette score for number of cluster(s) 8: 0.22204519932774264\n"
     ]
    }
   ],
   "source": [
    "km_scores= []\n",
    "km_silhouette = []\n",
    "vmeasure_score =[]\n",
    "db_score = []\n",
    "for i in range(2,9):\n",
    "    km = KMeans(n_clusters=i, random_state=0).fit(x)\n",
    "    preds = km.predict(x)    \n",
    "    silhouette = silhouette_score(x,preds)\n",
    "    km_silhouette.append(silhouette)\n",
    "    print(\"Silhouette score for number of cluster(s) {}: {}\".format(i,silhouette))"
   ]
  },
  {
   "cell_type": "code",
   "execution_count": 8,
   "metadata": {},
   "outputs": [
    {
     "data": {
      "image/png": "[encoded data removed]",
      "text/plain": [
       "<Figure size 504x288 with 1 Axes>"
      ]
     },
     "metadata": {
      "needs_background": "light"
     },
     "output_type": "display_data"
    }
   ],
   "source": [
    "plt.figure(figsize=(7,4))\n",
    "plt.title(\"The silhouette coefficient method \\nfor determining number of clusters\\n\",fontsize=16)\n",
    "plt.scatter(x=[i for i in range(2,9)],y=km_silhouette,s=150,edgecolor='k')\n",
    "plt.grid(True)\n",
    "plt.xlabel(\"Number of clusters\",fontsize=14)\n",
    "plt.ylabel(\"Silhouette score\",fontsize=15)\n",
    "plt.xticks([i for i in range(2,9)],fontsize=14)\n",
    "plt.yticks(fontsize=15)\n",
    "plt.show()"
   ]
  },
  {
   "cell_type": "code",
   "execution_count": 9,
   "metadata": {},
   "outputs": [
    {
     "data": {
      "text/plain": [
       "array([1, 1, 0, ..., 1, 0, 0], dtype=int32)"
      ]
     },
     "execution_count": 9,
     "metadata": {},
     "output_type": "execute_result"
    }
   ],
   "source": [
    "kmeans = KMeans(n_clusters=2)\n",
    "kmeans.fit(x)\n",
    "y = kmeans.predict(x)\n",
    "\n",
    "y"
   ]
  },
  {
   "cell_type": "code",
   "execution_count": 10,
   "metadata": {},
   "outputs": [
    {
     "name": "stderr",
     "output_type": "stream",
     "text": [
      "<ipython-input-10-ae67fccbe87d>:3: SettingWithCopyWarning: \n",
      "A value is trying to be set on a copy of a slice from a DataFrame.\n",
      "Try using .loc[row_indexer,col_indexer] = value instead\n",
      "\n",
      "See the caveats in the documentation: https://pandas.pydata.org/pandas-docs/stable/user_guide/indexing.html#returning-a-view-versus-a-copy\n",
      "  df2['y'] = y\n"
     ]
    },
    {
     "data": {
      "text/plain": [
       "<matplotlib.axes._subplots.AxesSubplot at 0x7f947a56cc70>"
      ]
     },
     "execution_count": 10,
     "metadata": {},
     "output_type": "execute_result"
    },
    {
     "data": {
      "image/png": "[encoded data removed]",
      "text/plain": [
       "<Figure size 432x288 with 1 Axes>"
      ]
     },
     "metadata": {
      "needs_background": "light"
     },
     "output_type": "display_data"
    },
    {
     "data": {
      "image/png": "[encoded data removed]",
      "text/plain": [
       "<Figure size 432x288 with 1 Axes>"
      ]
     },
     "metadata": {
      "needs_background": "light"
     },
     "output_type": "display_data"
    }
   ],
   "source": [
    "#plot the mean plot for each label\n",
    "df2 = df[target_cols]\n",
    "df2['y'] = y\n",
    "df2.groupby('y').mean().plot.bar()\n",
    "df2.groupby('y').std().plot.bar()"
   ]
  },
  {
   "cell_type": "code",
   "execution_count": 11,
   "metadata": {},
   "outputs": [],
   "source": [
    "from sklearn.model_selection import train_test_split"
   ]
  },
  {
   "cell_type": "code",
   "execution_count": 12,
   "metadata": {},
   "outputs": [],
   "source": [
    "X_train, X_test, y_train, y_test = train_test_split(df[feat_cols].values,\n",
    "                                                    y,\n",
    "                                                    test_size=0.3,\n",
    "                                                    shuffle=True,random_state = 0)"
   ]
  },
  {
   "cell_type": "code",
   "execution_count": 13,
   "metadata": {},
   "outputs": [],
   "source": [
    "from sklearn.ensemble import RandomForestClassifier\n",
    "from sklearn.metrics import accuracy_score"
   ]
  },
  {
   "cell_type": "code",
   "execution_count": 14,
   "metadata": {},
   "outputs": [],
   "source": [
    "rf = RandomForestClassifier(n_estimators=50,max_depth=5)\n",
    "rf.fit(X_train, y_train)\n",
    "y_train_pred = rf.predict(X_train)\n",
    "y_test_pred = rf.predict(X_test)"
   ]
  },
  {
   "cell_type": "code",
   "execution_count": 15,
   "metadata": {},
   "outputs": [
    {
     "name": "stdout",
     "output_type": "stream",
     "text": [
      "classification on training set\n",
      "____________________________________________\n",
      "              precision    recall  f1-score   support\n",
      "\n",
      "           0       0.76      1.00      0.86      1146\n",
      "           1       0.99      0.18      0.31       439\n",
      "\n",
      "    accuracy                           0.77      1585\n",
      "   macro avg       0.87      0.59      0.59      1585\n",
      "weighted avg       0.82      0.77      0.71      1585\n",
      "\n",
      "\n",
      "classification on test set\n",
      "____________________________________________\n",
      "              precision    recall  f1-score   support\n",
      "\n",
      "           0       0.70      0.99      0.82       460\n",
      "           1       0.79      0.10      0.18       220\n",
      "\n",
      "    accuracy                           0.70       680\n",
      "   macro avg       0.74      0.54      0.50       680\n",
      "weighted avg       0.73      0.70      0.61       680\n",
      "\n",
      "accuracy score\n",
      "0.7\n"
     ]
    }
   ],
   "source": [
    "from sklearn.metrics import classification_report\n",
    "print('classification on training set')\n",
    "print('____________________________________________')\n",
    "print(classification_report(y_train, y_train_pred))\n",
    "print()\n",
    "\n",
    "print('classification on test set')\n",
    "print('____________________________________________')\n",
    "print(classification_report(y_test,y_test_pred))\n",
    "print('accuracy score')\n",
    "print(accuracy_score(y_test,y_test_pred))"
   ]
  },
  {
   "cell_type": "code",
   "execution_count": null,
   "metadata": {},
   "outputs": [],
   "source": []
  }
 ],
 "metadata": {
  "kernelspec": {
   "display_name": "Python 3.8.5 64-bit",
   "language": "python",
   "name": "python38564bit1e4804f1821946f0aeb1cae8d4a10013"
  }
 },
 "nbformat": 4,
 "nbformat_minor": 4
}
